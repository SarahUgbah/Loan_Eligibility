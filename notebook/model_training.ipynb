{
 "cells": [
  {
   "cell_type": "code",
   "execution_count": 1,
   "metadata": {},
   "outputs": [],
   "source": [
    "# Basic Import\n",
    "import pandas as pd \n",
    "import numpy as np \n",
    "import seaborn as sns \n",
    "import matplotlib.pyplot as plt \n",
    "# Modelling\n",
    "from scipy.stats import zscore\n",
    "from sklearn.model_selection import train_test_split\n",
    "from sklearn.preprocessing import LabelEncoder\n",
    "from sklearn.preprocessing import OneHotEncoder, StandardScaler\n",
    "from sklearn.compose import ColumnTransformer\n",
    "from sklearn.preprocessing import StandardScaler\n",
    "from sklearn.decomposition import PCA\n",
    "from sklearn.svm import SVC\n",
    "from sklearn.metrics import accuracy_score, classification_report, confusion_matrix\n",
    "from sklearn.ensemble import GradientBoostingClassifier\n",
    "from sklearn.ensemble import RandomForestClassifier\n",
    "from sklearn.linear_model import LogisticRegression\n",
    "from sklearn.neighbors import KNeighborsClassifier\n",
    "\n"
   ]
  },
  {
   "cell_type": "code",
   "execution_count": 2,
   "metadata": {},
   "outputs": [],
   "source": [
    "df = pd.read_csv('data/Loan_Data (1).csv')"
   ]
  },
  {
   "cell_type": "code",
   "execution_count": 3,
   "metadata": {},
   "outputs": [],
   "source": [
    "df = df.dropna()"
   ]
  },
  {
   "cell_type": "code",
   "execution_count": 4,
   "metadata": {},
   "outputs": [],
   "source": [
    "X = df.drop(columns=['Loan_Status','Loan_ID'])  \n",
    "y = df['Loan_Status']  "
   ]
  },
  {
   "cell_type": "code",
   "execution_count": 5,
   "metadata": {},
   "outputs": [
    {
     "name": "stdout",
     "output_type": "stream",
     "text": [
      "['N' 'Y']\n"
     ]
    }
   ],
   "source": [
    "print(y.unique())"
   ]
  },
  {
   "cell_type": "code",
   "execution_count": 6,
   "metadata": {},
   "outputs": [],
   "source": [
    "y = y.map({'N':0, 'Y':1})"
   ]
  },
  {
   "cell_type": "code",
   "execution_count": 7,
   "metadata": {},
   "outputs": [],
   "source": [
    "num_features = X.select_dtypes(exclude=\"object\").columns\n",
    "cat_features = X.select_dtypes(include=\"object\").columns"
   ]
  },
  {
   "cell_type": "code",
   "execution_count": 8,
   "metadata": {},
   "outputs": [],
   "source": [
    "X_train, X_test, y_train, y_test = train_test_split(X, y, test_size=0.2, random_state=42)"
   ]
  },
  {
   "cell_type": "code",
   "execution_count": 9,
   "metadata": {},
   "outputs": [],
   "source": [
    "threshold = 3\n",
    "\n",
    "train_means = X_train[num_features].mean()\n",
    "train_stds = X_train[num_features].std()\n",
    "\n",
    "z_scores_train = (X_train[num_features] - train_means) / train_stds\n",
    "\n",
    "outlier_mask_train = (np.abs(z_scores_train) <= threshold).all(axis=1)\n",
    "\n",
    "X_train_cleaned = X_train[outlier_mask_train]\n",
    "y_train_cleaned = y_train[outlier_mask_train]\n",
    "\n",
    "z_scores_test = (X_test[num_features] - train_means) / train_stds\n",
    "\n",
    "outlier_mask_test = (np.abs(z_scores_test) <= threshold).all(axis=1)\n",
    "\n",
    "X_test_cleaned = X_test[outlier_mask_test]\n",
    "y_test_cleaned = y_test[outlier_mask_test]"
   ]
  },
  {
   "cell_type": "code",
   "execution_count": 10,
   "metadata": {},
   "outputs": [],
   "source": [
    "\n",
    "\n",
    "num_transformer = StandardScaler()\n",
    "oh_transformer = OneHotEncoder()\n",
    "\n",
    "preprocessor = ColumnTransformer(\n",
    "  \n",
    "  [\n",
    "    (\"OneHotEncoder\", oh_transformer, cat_features),\n",
    "    (\"StandardScaler\", num_transformer, num_features),\n",
    "  ]\n",
    "\n",
    ")"
   ]
  },
  {
   "cell_type": "code",
   "execution_count": 11,
   "metadata": {},
   "outputs": [],
   "source": [
    "preprocessor.fit(X_train_cleaned)\n",
    "\n",
    "X_train_transformed = preprocessor.transform(X_train_cleaned)\n",
    "X_test_transformed = preprocessor.transform(X_test_cleaned)"
   ]
  },
  {
   "cell_type": "code",
   "execution_count": 12,
   "metadata": {},
   "outputs": [],
   "source": [
    "pca = PCA(n_components=0.95)  \n",
    "X_train_pca = pca.fit_transform(X_train_transformed)\n",
    "X_test_pca = pca.transform(X_test_transformed)"
   ]
  },
  {
   "cell_type": "code",
   "execution_count": 13,
   "metadata": {},
   "outputs": [
    {
     "name": "stdout",
     "output_type": "stream",
     "text": [
      "Model Accuracy: 82.42%\n",
      "\n",
      "Classification Report:\n",
      "              precision    recall  f1-score   support\n",
      "\n",
      "           0       1.00      0.38      0.56        26\n",
      "           1       0.80      1.00      0.89        65\n",
      "\n",
      "    accuracy                           0.82        91\n",
      "   macro avg       0.90      0.69      0.72        91\n",
      "weighted avg       0.86      0.82      0.79        91\n",
      "\n",
      "\n",
      "Confusion Matrix:\n",
      "[[10 16]\n",
      " [ 0 65]]\n"
     ]
    }
   ],
   "source": [
    "svm_model = SVC(kernel='linear', random_state=42)\n",
    "\n",
    "svm_model.fit(X_train_pca, y_train_cleaned)\n",
    "\n",
    "y_pred_svm = svm_model.predict(X_test_pca)\n",
    "\n",
    "accuracy = accuracy_score(y_test_cleaned, y_pred_svm)\n",
    "print(f\"Model Accuracy: {accuracy * 100:.2f}%\")\n",
    "\n",
    "print(\"\\nClassification Report:\")\n",
    "print(classification_report(y_test_cleaned, y_pred_svm))\n",
    "\n",
    "print(\"\\nConfusion Matrix:\")\n",
    "print(confusion_matrix(y_test_cleaned, y_pred_svm))"
   ]
  },
  {
   "cell_type": "code",
   "execution_count": 14,
   "metadata": {},
   "outputs": [
    {
     "name": "stdout",
     "output_type": "stream",
     "text": [
      "Model Accuracy: 82.42%\n",
      "\n",
      "Classification Report:\n",
      "              precision    recall  f1-score   support\n",
      "\n",
      "           0       1.00      0.38      0.56        26\n",
      "           1       0.80      1.00      0.89        65\n",
      "\n",
      "    accuracy                           0.82        91\n",
      "   macro avg       0.90      0.69      0.72        91\n",
      "weighted avg       0.86      0.82      0.79        91\n",
      "\n",
      "\n",
      "Confusion Matrix:\n",
      "[[10 16]\n",
      " [ 0 65]]\n"
     ]
    }
   ],
   "source": [
    "\n",
    "\n",
    "# Initialize Logistic Regression model\n",
    "log_reg_model = LogisticRegression(random_state=42)\n",
    "\n",
    "# Fit the model\n",
    "log_reg_model.fit(X_train_pca, y_train_cleaned)\n",
    "\n",
    "# Make predictions\n",
    "y_pred_log_reg = log_reg_model.predict(X_test_pca)\n",
    "\n",
    "# Calculate accuracy and print the results\n",
    "accuracy = accuracy_score(y_test_cleaned, y_pred_log_reg)\n",
    "print(f\"Model Accuracy: {accuracy * 100:.2f}%\")\n",
    "\n",
    "print(\"\\nClassification Report:\")\n",
    "print(classification_report(y_test_cleaned, y_pred_log_reg))\n",
    "\n",
    "print(\"\\nConfusion Matrix:\")\n",
    "print(confusion_matrix(y_test_cleaned, y_pred_log_reg))\n"
   ]
  },
  {
   "cell_type": "code",
   "execution_count": 15,
   "metadata": {},
   "outputs": [
    {
     "name": "stdout",
     "output_type": "stream",
     "text": [
      "Model Accuracy: 83.52%\n",
      "\n",
      "Classification Report:\n",
      "              precision    recall  f1-score   support\n",
      "\n",
      "           0       0.82      0.54      0.65        26\n",
      "           1       0.84      0.95      0.89        65\n",
      "\n",
      "    accuracy                           0.84        91\n",
      "   macro avg       0.83      0.75      0.77        91\n",
      "weighted avg       0.83      0.84      0.82        91\n",
      "\n",
      "\n",
      "Confusion Matrix:\n",
      "[[14 12]\n",
      " [ 3 62]]\n"
     ]
    }
   ],
   "source": [
    "\n",
    "\n",
    "# Initialize Random Forest model\n",
    "rf_model = RandomForestClassifier(random_state=42)\n",
    "\n",
    "# Fit the model\n",
    "rf_model.fit(X_train_pca, y_train_cleaned)\n",
    "\n",
    "# Make predictions\n",
    "y_pred_rf = rf_model.predict(X_test_pca)\n",
    "\n",
    "# Calculate accuracy and print the results\n",
    "accuracy = accuracy_score(y_test_cleaned, y_pred_rf)\n",
    "print(f\"Model Accuracy: {accuracy * 100:.2f}%\")\n",
    "\n",
    "print(\"\\nClassification Report:\")\n",
    "print(classification_report(y_test_cleaned, y_pred_rf))\n",
    "\n",
    "print(\"\\nConfusion Matrix:\")\n",
    "print(confusion_matrix(y_test_cleaned, y_pred_rf))\n"
   ]
  },
  {
   "cell_type": "code",
   "execution_count": 16,
   "metadata": {},
   "outputs": [
    {
     "name": "stdout",
     "output_type": "stream",
     "text": [
      "Model Accuracy: 79.12%\n",
      "\n",
      "Classification Report:\n",
      "              precision    recall  f1-score   support\n",
      "\n",
      "           0       0.68      0.50      0.58        26\n",
      "           1       0.82      0.91      0.86        65\n",
      "\n",
      "    accuracy                           0.79        91\n",
      "   macro avg       0.75      0.70      0.72        91\n",
      "weighted avg       0.78      0.79      0.78        91\n",
      "\n",
      "\n",
      "Confusion Matrix:\n",
      "[[13 13]\n",
      " [ 6 59]]\n"
     ]
    }
   ],
   "source": [
    "\n",
    "\n",
    "# Initialize Gradient Boosting model\n",
    "gb_model = GradientBoostingClassifier(random_state=42)\n",
    "\n",
    "# Fit the model\n",
    "gb_model.fit(X_train_pca, y_train_cleaned)\n",
    "\n",
    "# Make predictions\n",
    "y_pred_gb = gb_model.predict(X_test_pca)\n",
    "\n",
    "# Calculate accuracy and print the results\n",
    "accuracy = accuracy_score(y_test_cleaned, y_pred_gb)\n",
    "print(f\"Model Accuracy: {accuracy * 100:.2f}%\")\n",
    "\n",
    "print(\"\\nClassification Report:\")\n",
    "print(classification_report(y_test_cleaned, y_pred_gb))\n",
    "\n",
    "print(\"\\nConfusion Matrix:\")\n",
    "print(confusion_matrix(y_test_cleaned, y_pred_gb))\n"
   ]
  },
  {
   "cell_type": "code",
   "execution_count": 17,
   "metadata": {},
   "outputs": [
    {
     "name": "stdout",
     "output_type": "stream",
     "text": [
      "Model Accuracy: 82.42%\n",
      "\n",
      "Classification Report:\n",
      "              precision    recall  f1-score   support\n",
      "\n",
      "           0       1.00      0.38      0.56        26\n",
      "           1       0.80      1.00      0.89        65\n",
      "\n",
      "    accuracy                           0.82        91\n",
      "   macro avg       0.90      0.69      0.72        91\n",
      "weighted avg       0.86      0.82      0.79        91\n",
      "\n",
      "\n",
      "Confusion Matrix:\n",
      "[[10 16]\n",
      " [ 0 65]]\n"
     ]
    }
   ],
   "source": [
    "\n",
    "\n",
    "# Initialize K-Nearest Neighbors model\n",
    "knn_model = KNeighborsClassifier()\n",
    "\n",
    "# Fit the model\n",
    "knn_model.fit(X_train_pca, y_train_cleaned)\n",
    "\n",
    "# Make predictions\n",
    "y_pred_knn = knn_model.predict(X_test_pca)\n",
    "\n",
    "# Calculate accuracy and print the results\n",
    "accuracy = accuracy_score(y_test_cleaned, y_pred_knn)\n",
    "print(f\"Model Accuracy: {accuracy * 100:.2f}%\")\n",
    "\n",
    "print(\"\\nClassification Report:\")\n",
    "print(classification_report(y_test_cleaned, y_pred_knn))\n",
    "\n",
    "print(\"\\nConfusion Matrix:\")\n",
    "print(confusion_matrix(y_test_cleaned, y_pred_knn))\n"
   ]
  }
 ],
 "metadata": {
  "kernelspec": {
   "display_name": "Python 3",
   "language": "python",
   "name": "python3"
  },
  "language_info": {
   "codemirror_mode": {
    "name": "ipython",
    "version": 3
   },
   "file_extension": ".py",
   "mimetype": "text/x-python",
   "name": "python",
   "nbconvert_exporter": "python",
   "pygments_lexer": "ipython3",
   "version": "3.8.0"
  }
 },
 "nbformat": 4,
 "nbformat_minor": 2
}
